{
 "cells": [
  {
   "cell_type": "code",
   "execution_count": 10,
   "metadata": {},
   "outputs": [],
   "source": [
    "import pandas as pd\n",
    "df=pd.read_csv(\"athlete_events.csv\")\n"
   ]
  },
  {
   "cell_type": "code",
   "execution_count": 11,
   "metadata": {},
   "outputs": [
    {
     "data": {
      "text/html": [
       "<div>\n",
       "<style scoped>\n",
       "    .dataframe tbody tr th:only-of-type {\n",
       "        vertical-align: middle;\n",
       "    }\n",
       "\n",
       "    .dataframe tbody tr th {\n",
       "        vertical-align: top;\n",
       "    }\n",
       "\n",
       "    .dataframe thead th {\n",
       "        text-align: right;\n",
       "    }\n",
       "</style>\n",
       "<table border=\"1\" class=\"dataframe\">\n",
       "  <thead>\n",
       "    <tr style=\"text-align: right;\">\n",
       "      <th></th>\n",
       "      <th>ID</th>\n",
       "      <th>Name</th>\n",
       "      <th>Sex</th>\n",
       "      <th>Age</th>\n",
       "      <th>Height</th>\n",
       "      <th>Weight</th>\n",
       "      <th>Team</th>\n",
       "      <th>NOC</th>\n",
       "      <th>Games</th>\n",
       "      <th>Year</th>\n",
       "      <th>Season</th>\n",
       "      <th>City</th>\n",
       "      <th>Sport</th>\n",
       "      <th>Event</th>\n",
       "      <th>Medal</th>\n",
       "    </tr>\n",
       "  </thead>\n",
       "  <tbody>\n",
       "    <tr>\n",
       "      <th>0</th>\n",
       "      <td>1</td>\n",
       "      <td>A Dijiang</td>\n",
       "      <td>M</td>\n",
       "      <td>24.0</td>\n",
       "      <td>180.0</td>\n",
       "      <td>80.0</td>\n",
       "      <td>China</td>\n",
       "      <td>CHN</td>\n",
       "      <td>1992 Summer</td>\n",
       "      <td>1992</td>\n",
       "      <td>Summer</td>\n",
       "      <td>Barcelona</td>\n",
       "      <td>Basketball</td>\n",
       "      <td>Basketball Men's Basketball</td>\n",
       "      <td>NaN</td>\n",
       "    </tr>\n",
       "    <tr>\n",
       "      <th>1</th>\n",
       "      <td>2</td>\n",
       "      <td>A Lamusi</td>\n",
       "      <td>M</td>\n",
       "      <td>23.0</td>\n",
       "      <td>170.0</td>\n",
       "      <td>60.0</td>\n",
       "      <td>China</td>\n",
       "      <td>CHN</td>\n",
       "      <td>2012 Summer</td>\n",
       "      <td>2012</td>\n",
       "      <td>Summer</td>\n",
       "      <td>London</td>\n",
       "      <td>Judo</td>\n",
       "      <td>Judo Men's Extra-Lightweight</td>\n",
       "      <td>NaN</td>\n",
       "    </tr>\n",
       "    <tr>\n",
       "      <th>2</th>\n",
       "      <td>3</td>\n",
       "      <td>Gunnar Nielsen Aaby</td>\n",
       "      <td>M</td>\n",
       "      <td>24.0</td>\n",
       "      <td>NaN</td>\n",
       "      <td>NaN</td>\n",
       "      <td>Denmark</td>\n",
       "      <td>DEN</td>\n",
       "      <td>1920 Summer</td>\n",
       "      <td>1920</td>\n",
       "      <td>Summer</td>\n",
       "      <td>Antwerpen</td>\n",
       "      <td>Football</td>\n",
       "      <td>Football Men's Football</td>\n",
       "      <td>NaN</td>\n",
       "    </tr>\n",
       "    <tr>\n",
       "      <th>3</th>\n",
       "      <td>4</td>\n",
       "      <td>Edgar Lindenau Aabye</td>\n",
       "      <td>M</td>\n",
       "      <td>34.0</td>\n",
       "      <td>NaN</td>\n",
       "      <td>NaN</td>\n",
       "      <td>Denmark/Sweden</td>\n",
       "      <td>DEN</td>\n",
       "      <td>1900 Summer</td>\n",
       "      <td>1900</td>\n",
       "      <td>Summer</td>\n",
       "      <td>Paris</td>\n",
       "      <td>Tug-Of-War</td>\n",
       "      <td>Tug-Of-War Men's Tug-Of-War</td>\n",
       "      <td>Gold</td>\n",
       "    </tr>\n",
       "    <tr>\n",
       "      <th>4</th>\n",
       "      <td>5</td>\n",
       "      <td>Christine Jacoba Aaftink</td>\n",
       "      <td>F</td>\n",
       "      <td>21.0</td>\n",
       "      <td>185.0</td>\n",
       "      <td>82.0</td>\n",
       "      <td>Netherlands</td>\n",
       "      <td>NED</td>\n",
       "      <td>1988 Winter</td>\n",
       "      <td>1988</td>\n",
       "      <td>Winter</td>\n",
       "      <td>Calgary</td>\n",
       "      <td>Speed Skating</td>\n",
       "      <td>Speed Skating Women's 500 metres</td>\n",
       "      <td>NaN</td>\n",
       "    </tr>\n",
       "  </tbody>\n",
       "</table>\n",
       "</div>"
      ],
      "text/plain": [
       "   ID                      Name Sex   Age  Height  Weight            Team  \\\n",
       "0   1                 A Dijiang   M  24.0   180.0    80.0           China   \n",
       "1   2                  A Lamusi   M  23.0   170.0    60.0           China   \n",
       "2   3       Gunnar Nielsen Aaby   M  24.0     NaN     NaN         Denmark   \n",
       "3   4      Edgar Lindenau Aabye   M  34.0     NaN     NaN  Denmark/Sweden   \n",
       "4   5  Christine Jacoba Aaftink   F  21.0   185.0    82.0     Netherlands   \n",
       "\n",
       "   NOC        Games  Year  Season       City          Sport  \\\n",
       "0  CHN  1992 Summer  1992  Summer  Barcelona     Basketball   \n",
       "1  CHN  2012 Summer  2012  Summer     London           Judo   \n",
       "2  DEN  1920 Summer  1920  Summer  Antwerpen       Football   \n",
       "3  DEN  1900 Summer  1900  Summer      Paris     Tug-Of-War   \n",
       "4  NED  1988 Winter  1988  Winter    Calgary  Speed Skating   \n",
       "\n",
       "                              Event Medal  \n",
       "0       Basketball Men's Basketball   NaN  \n",
       "1      Judo Men's Extra-Lightweight   NaN  \n",
       "2           Football Men's Football   NaN  \n",
       "3       Tug-Of-War Men's Tug-Of-War  Gold  \n",
       "4  Speed Skating Women's 500 metres   NaN  "
      ]
     },
     "execution_count": 11,
     "metadata": {},
     "output_type": "execute_result"
    }
   ],
   "source": [
    "df.head()"
   ]
  },
  {
   "cell_type": "code",
   "execution_count": 12,
   "metadata": {},
   "outputs": [],
   "source": [
    "ejercicio_1 = df.shape"
   ]
  },
  {
   "cell_type": "code",
   "execution_count": 13,
   "metadata": {},
   "outputs": [
    {
     "data": {
      "text/plain": [
       "(271116, 15)"
      ]
     },
     "execution_count": 13,
     "metadata": {},
     "output_type": "execute_result"
    }
   ],
   "source": [
    "ejercicio_1"
   ]
  },
  {
   "cell_type": "code",
   "execution_count": 14,
   "metadata": {},
   "outputs": [
    {
     "data": {
      "text/plain": [
       "array(['1992 Summer', '2012 Summer', '1920 Summer', '1900 Summer',\n",
       "       '1988 Winter', '1992 Winter', '1994 Winter', '1932 Summer',\n",
       "       '2002 Winter', '1952 Summer', '1980 Winter', '2000 Summer',\n",
       "       '1996 Summer', '1912 Summer', '1924 Summer', '2014 Winter',\n",
       "       '1948 Summer', '1998 Winter', '2006 Winter', '2008 Summer',\n",
       "       '2016 Summer', '2004 Summer', '1960 Winter', '1964 Winter',\n",
       "       '1984 Winter', '1984 Summer', '1968 Summer', '1972 Summer',\n",
       "       '1988 Summer', '1936 Summer', '1952 Winter', '1956 Winter',\n",
       "       '1956 Summer', '1960 Summer', '1928 Summer', '1976 Summer',\n",
       "       '1980 Summer', '1964 Summer', '2010 Winter', '1968 Winter',\n",
       "       '1906 Summer', '1972 Winter', '1976 Winter', '1924 Winter',\n",
       "       '1904 Summer', '1928 Winter', '1908 Summer', '1948 Winter',\n",
       "       '1932 Winter', '1936 Winter', '1896 Summer'], dtype=object)"
      ]
     },
     "execution_count": 14,
     "metadata": {},
     "output_type": "execute_result"
    }
   ],
   "source": [
    "df[\"Games\"].unique()"
   ]
  },
  {
   "cell_type": "code",
   "execution_count": 15,
   "metadata": {},
   "outputs": [
    {
     "data": {
      "text/plain": [
       "51"
      ]
     },
     "execution_count": 15,
     "metadata": {},
     "output_type": "execute_result"
    }
   ],
   "source": [
    "len(df[\"Games\"].unique())"
   ]
  },
  {
   "cell_type": "code",
   "execution_count": 16,
   "metadata": {},
   "outputs": [
    {
     "data": {
      "text/plain": [
       "Summer    222552\n",
       "Winter     48564\n",
       "Name: Season, dtype: int64"
      ]
     },
     "execution_count": 16,
     "metadata": {},
     "output_type": "execute_result"
    }
   ],
   "source": [
    "df[\"Season\"].value_counts()"
   ]
  },
  {
   "cell_type": "code",
   "execution_count": 17,
   "metadata": {},
   "outputs": [],
   "source": [
    "df_summer = df[df[\"Season\"] == \"Summer\"]\n",
    "df_winter = df[df[\"Season\"] == \"Winter\"]\n"
   ]
  },
  {
   "cell_type": "code",
   "execution_count": 49,
   "metadata": {},
   "outputs": [
    {
     "data": {
      "text/plain": [
       "0                                   A Dijiang\n",
       "1                                    A Lamusi\n",
       "2                         Gunnar Nielsen Aaby\n",
       "3                        Edgar Lindenau Aabye\n",
       "26         Cornelia \"Cor\" Aalten (-Strannood)\n",
       "27         Cornelia \"Cor\" Aalten (-Strannood)\n",
       "29             Einar Ferdinand \"Einari\" Aalto\n",
       "31                          Jyri Tapani Aalto\n",
       "32                         Minna Maarit Aalto\n",
       "33                         Minna Maarit Aalto\n",
       "35                       Arvo Ossian Aaltonen\n",
       "36                       Arvo Ossian Aaltonen\n",
       "37                       Arvo Ossian Aaltonen\n",
       "38                       Arvo Ossian Aaltonen\n",
       "39                       Arvo Ossian Aaltonen\n",
       "41                    Paavo Johannes Aaltonen\n",
       "42                    Paavo Johannes Aaltonen\n",
       "43                    Paavo Johannes Aaltonen\n",
       "44                    Paavo Johannes Aaltonen\n",
       "45                    Paavo Johannes Aaltonen\n",
       "46                    Paavo Johannes Aaltonen\n",
       "47                    Paavo Johannes Aaltonen\n",
       "48                    Paavo Johannes Aaltonen\n",
       "49                    Paavo Johannes Aaltonen\n",
       "50                    Paavo Johannes Aaltonen\n",
       "51                    Paavo Johannes Aaltonen\n",
       "52                    Paavo Johannes Aaltonen\n",
       "53                    Paavo Johannes Aaltonen\n",
       "54                    Paavo Johannes Aaltonen\n",
       "55                    Paavo Johannes Aaltonen\n",
       "                         ...                 \n",
       "271054          Viktoriya Viktorovna Zyabkina\n",
       "271055          Viktoriya Viktorovna Zyabkina\n",
       "271056                 Yury Ivanovich Zyabrev\n",
       "271075        Jan (Johann-) Zybert (Siebert-)\n",
       "271076    Galina Ivanovna Zybina (-Fyodorova)\n",
       "271077    Galina Ivanovna Zybina (-Fyodorova)\n",
       "271078    Galina Ivanovna Zybina (-Fyodorova)\n",
       "271079    Galina Ivanovna Zybina (-Fyodorova)\n",
       "271080    Galina Ivanovna Zybina (-Fyodorova)\n",
       "271081                           Bogusaw Zych\n",
       "271082                           Bogusaw Zych\n",
       "271083                           Bogusaw Zych\n",
       "271084                           Bogusaw Zych\n",
       "271085                           Bogusaw Zych\n",
       "271087             Bogusaw Stanisaw Zychowicz\n",
       "271088             Bogusaw Stanisaw Zychowicz\n",
       "271089                           Dominik ycki\n",
       "271090                           Dominik ycki\n",
       "271091                     ukasz Tomasz ygado\n",
       "271099                      Stavroula Zygouri\n",
       "271100                          Frantiek Zyka\n",
       "271101                             Milan Zyka\n",
       "271102              Olesya Nikolayevna Zykina\n",
       "271103              Olesya Nikolayevna Zykina\n",
       "271105               Fernando scar Zylberberg\n",
       "271106               Fernando scar Zylberberg\n",
       "271107             James Francis \"Jim\" Zylker\n",
       "271108           Aleksandr Viktorovich Zyuzin\n",
       "271109           Aleksandr Viktorovich Zyuzin\n",
       "271110                 Olga Igorevna Zyuzkova\n",
       "Name: Name, Length: 222552, dtype: object"
      ]
     },
     "execution_count": 49,
     "metadata": {},
     "output_type": "execute_result"
    }
   ],
   "source": [
    "df_summer[\"Name\"]"
   ]
  },
  {
   "cell_type": "code",
   "execution_count": 50,
   "metadata": {},
   "outputs": [
    {
     "data": {
      "text/plain": [
       "1896"
      ]
     },
     "execution_count": 50,
     "metadata": {},
     "output_type": "execute_result"
    }
   ],
   "source": [
    "df[df[\"Season\"] == \"Summer\"][\"Year\"].min()"
   ]
  },
  {
   "cell_type": "code",
   "execution_count": 51,
   "metadata": {},
   "outputs": [
    {
     "data": {
      "text/plain": [
       "Team\n",
       "United States    17847\n",
       "France           11988\n",
       "Great Britain    11404\n",
       "Italy            10260\n",
       "Germany           9326\n",
       "Canada            9279\n",
       "Japan             8289\n",
       "Sweden            8052\n",
       "Australia         7513\n",
       "Hungary           6547\n",
       "Name: Name, dtype: int64"
      ]
     },
     "execution_count": 51,
     "metadata": {},
     "output_type": "execute_result"
    }
   ],
   "source": [
    "df.groupby([\"Team\"])[\"Name\"].agg(len).sort_values(ascending= False).iloc[:10]"
   ]
  },
  {
   "cell_type": "code",
   "execution_count": 52,
   "metadata": {},
   "outputs": [
    {
     "data": {
      "text/plain": [
       "Gold      91\n",
       "Bronze    91\n",
       "Silver    84\n",
       "Name: Medal, dtype: int64"
      ]
     },
     "execution_count": 52,
     "metadata": {},
     "output_type": "execute_result"
    }
   ],
   "source": [
    "df[df[\"Team\"] == \"Argentina\"][\"Medal\"].value_counts()"
   ]
  },
  {
   "cell_type": "code",
   "execution_count": 53,
   "metadata": {},
   "outputs": [
    {
     "data": {
      "text/plain": [
       "0         False\n",
       "1         False\n",
       "2         False\n",
       "3         False\n",
       "4         False\n",
       "5         False\n",
       "6         False\n",
       "7         False\n",
       "8         False\n",
       "9         False\n",
       "10        False\n",
       "11        False\n",
       "12        False\n",
       "13        False\n",
       "14        False\n",
       "15        False\n",
       "16        False\n",
       "17        False\n",
       "18        False\n",
       "19        False\n",
       "20        False\n",
       "21        False\n",
       "22        False\n",
       "23        False\n",
       "24        False\n",
       "25        False\n",
       "26        False\n",
       "27        False\n",
       "28        False\n",
       "29        False\n",
       "          ...  \n",
       "271086    False\n",
       "271087    False\n",
       "271088    False\n",
       "271089    False\n",
       "271090    False\n",
       "271091    False\n",
       "271092    False\n",
       "271093    False\n",
       "271094    False\n",
       "271095    False\n",
       "271096    False\n",
       "271097    False\n",
       "271098    False\n",
       "271099    False\n",
       "271100    False\n",
       "271101    False\n",
       "271102    False\n",
       "271103    False\n",
       "271104    False\n",
       "271105    False\n",
       "271106    False\n",
       "271107    False\n",
       "271108    False\n",
       "271109    False\n",
       "271110    False\n",
       "271111    False\n",
       "271112    False\n",
       "271113    False\n",
       "271114    False\n",
       "271115    False\n",
       "Name: Year, Length: 271116, dtype: bool"
      ]
     },
     "execution_count": 53,
     "metadata": {},
     "output_type": "execute_result"
    }
   ],
   "source": [
    "df[\"Year\"] == df[df[\"Season\"] == \"Summer\"][\"Year\"].min()"
   ]
  }
 ],
 "metadata": {
  "kernelspec": {
   "display_name": "Python 3",
   "language": "python",
   "name": "python3"
  },
  "language_info": {
   "codemirror_mode": {
    "name": "ipython",
    "version": 3
   },
   "file_extension": ".py",
   "mimetype": "text/x-python",
   "name": "python",
   "nbconvert_exporter": "python",
   "pygments_lexer": "ipython3",
   "version": "3.7.3"
  }
 },
 "nbformat": 4,
 "nbformat_minor": 2
}
